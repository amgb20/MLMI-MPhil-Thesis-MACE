{
 "cells": [
  {
   "cell_type": "markdown",
   "metadata": {},
   "source": [
    "# MACE experiment notebook \n",
    "\n",
    "This experiment notebook tries to understand how to speed up varius part of [MACE](../Notes/General%20Concepts/MACE.md).\n",
    "\n",
    "It relies on the different tutorial notebooks proposed by the [MACE repositery](https://github.com/ACEsuit/mace)."
   ]
  },
  {
   "cell_type": "markdown",
   "metadata": {},
   "source": [
    "## Precision Theory"
   ]
  },
  {
   "cell_type": "markdown",
   "metadata": {},
   "source": [
    "✅ Summary: FP32 vs FP16\n",
    "\n",
    "| Property          | FP32 (float32)       | FP16 (float16)                                          |\n",
    "| ----------------- | -------------------- | ------------------------------------------------------- |\n",
    "| Total bits        | 32                   | 16                                                      |\n",
    "| Mantissa bits     | 23                   | 10                                                      |\n",
    "| Decimal precision | \\~7 digits           | \\~3 digits                                              |\n",
    "| Value range       | \\~±$10^{38}$         | \\~±$10^5$                                               |\n",
    "| Memory usage      | 4 bytes / value      | 2 bytes / value                                         |\n",
    "| Performance       | Slower, more precise | Faster, less precise                                    |\n",
    "| Typical use       | Default for training | Efficient inference / low-precision training (with AMP) |\n",
    "\n",
    "\n",
    "\n",
    "import torch\n",
    "\n",
    "# Define a float32 tensor with high-precision value\n",
    "vector_fp32 = torch.tensor([1.2345678], dtype=torch.float32)\n",
    "\n",
    "# Convert to float16 (half precision)\n",
    "vector_fp16 = vector_fp32.half()\n",
    "\n",
    "# Print both values with full decimal precision\n",
    "print(f\"FP32 value  : {vector_fp32.item():.10f}\")\n",
    "print(f\"FP16 value  : {vector_fp16.item():.10f}\")\n",
    "\n",
    "# Absolute error\n",
    "error = torch.abs(vector_fp16.float() - vector_fp32)\n",
    "print(f\"Absolute error: {error.item():.10f}\")\n",
    "```"
   ]
  },
  {
   "cell_type": "markdown",
   "metadata": {},
   "source": [
    "## T03-MACE-Theory.ipynb"
   ]
  },
  {
   "cell_type": "markdown",
   "metadata": {},
   "source": [
    "### Install dependencies"
   ]
  },
  {
   "cell_type": "code",
   "execution_count": 16,
   "metadata": {},
   "outputs": [],
   "source": [
    "from mace import data, modules, tools\n",
    "import numpy as np\n",
    "import torch\n",
    "import torch.nn.functional\n",
    "from e3nn import o3\n",
    "from matplotlib import pyplot as plt\n",
    "import ase.io\n",
    "%matplotlib inline\n",
    "from ase.visualize import view\n",
    "from scipy.spatial.transform import Rotation\n",
    "\n",
    "from mace.tools import torch_geometric\n",
    "# torch.set_default_dtype(torch.float64)\n",
    "import warnings\n",
    "warnings.filterwarnings(\"ignore\")"
   ]
  },
  {
   "cell_type": "markdown",
   "metadata": {},
   "source": [
    "### Speeding up Rotational Embedding"
   ]
  },
  {
   "cell_type": "markdown",
   "metadata": {},
   "source": [
    "Speeding up the computation of spherical harmonics $Y_l^m(\\hat{\\mathbf{r}})$, and how do I verify whether lowering its precision has any significant impact?"
   ]
  },
  {
   "cell_type": "code",
   "execution_count": 6,
   "metadata": {},
   "outputs": [
    {
     "name": "stdout",
     "output_type": "stream",
     "text": [
      "SphericalHarmonics()\n",
      "tensor([ 0.2821,  0.3860,  0.0772,  0.2895,  0.5113,  0.1364, -0.2918,  0.1023,\n",
      "        -0.1491])\n"
     ]
    }
   ],
   "source": [
    "# a function for Ylms where we evaluate for l=0,1,2.\n",
    "spherical_harmonics = o3.SphericalHarmonics([0,1,2], True)\n",
    "\n",
    "print(spherical_harmonics)\n",
    "\n",
    "# evaulate spherical harmonics on a vector\n",
    "vector = torch.tensor([1.0, 0.2, 0.75])\n",
    "print(spherical_harmonics(vector))"
   ]
  },
  {
   "cell_type": "code",
   "execution_count": 24,
   "metadata": {},
   "outputs": [
    {
     "name": "stdout",
     "output_type": "stream",
     "text": [
      "vector_fp32: tensor([1.2346]) - we can see that the tensor is rounding from 1.2345678 to 1.2346\n",
      "torch.float32\n",
      "1.2345677614\n",
      "1.2343750000\n",
      "torch.float16\n",
      "vector_fp16: tensor([1.2344], dtype=torch.float16) - we can see that the tensor is rounding from 1.2345678 to 1.2344\n"
     ]
    }
   ],
   "source": [
    "\n",
    "torch.set_default_dtype(torch.float32)\n",
    "vector_fp32 = torch.tensor([1.2345678])\n",
    "print(f\"vector_fp32: {vector_fp32} - we can see that the tensor is rounding from 1.2345678 to 1.2346\")\n",
    "print(vector_fp32.dtype)\n",
    "print(f\"{vector_fp32.item():.10f}\")  # → 1.2345678806\n",
    "vector_fp16 = vector_fp32.half()\n",
    "print(f\"{vector_fp16.item():.10f}\")  # → 1.2343750000\n",
    "print(vector_fp16.dtype)\n",
    "print(f\"vector_fp16: {vector_fp16} - we can see that the tensor is rounding from 1.2345678 to 1.2344\")  # Output: tensor([1.234375], dtype=torch.float16)\n"
   ]
  },
  {
   "cell_type": "code",
   "execution_count": null,
   "metadata": {},
   "outputs": [],
   "source": []
  }
 ],
 "metadata": {
  "kernelspec": {
   "display_name": ".venv",
   "language": "python",
   "name": "python3"
  },
  "language_info": {
   "codemirror_mode": {
    "name": "ipython",
    "version": 3
   },
   "file_extension": ".py",
   "mimetype": "text/x-python",
   "name": "python",
   "nbconvert_exporter": "python",
   "pygments_lexer": "ipython3",
   "version": "3.9.6"
  }
 },
 "nbformat": 4,
 "nbformat_minor": 2
}
